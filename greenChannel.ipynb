{
 "cells": [
  {
   "cell_type": "code",
   "execution_count": 9,
   "id": "e88d0c40",
   "metadata": {},
   "outputs": [],
   "source": [
    "from skimage.io import imread_collection\n",
    "from tqdm import tqdm\n",
    "import glob\n",
    "import cv2\n",
    "import os"
   ]
  },
  {
   "cell_type": "code",
   "execution_count": 10,
   "id": "7dfd8784",
   "metadata": {},
   "outputs": [],
   "source": [
    "def greenChannel(directory, arr):\n",
    "    \n",
    "    os.chdir(directory)\n",
    "\n",
    "    for i in tqdm(range(len(arr))):\n",
    "        img = arr[i]\n",
    "    \n",
    "        green_channel = img[:,:,1]\n",
    "    \n",
    "        j = 1\n",
    "        while os.path.exists(\"%d.png\" % j):\n",
    "            j+=1\n",
    "    \n",
    "        cv2.imwrite(\"%d.png\" % j, green_channel)"
   ]
  },
  {
   "cell_type": "code",
   "execution_count": 11,
   "id": "0bf970be",
   "metadata": {},
   "outputs": [],
   "source": [
    "def collector(directory):\n",
    "    col_dir = directory\n",
    "    col = imread_collection(col_dir)\n",
    "    \n",
    "    return col"
   ]
  },
  {
   "cell_type": "code",
   "execution_count": 19,
   "id": "fd7e1519",
   "metadata": {},
   "outputs": [
    {
     "name": "stderr",
     "output_type": "stream",
     "text": [
      "100%|█████████████████████████████████████████| 640/640 [00:57<00:00, 11.07it/s]\n"
     ]
    }
   ],
   "source": [
    "eval_img = collector(\"/Users/ahmetuten/Desktop/grad/resized/eval/*.png\")\n",
    "\n",
    "directory = \"/Users/ahmetuten/Desktop/grad/green/eval\"\n",
    "arr = eval_img\n",
    "\n",
    "greenChannel(directory, arr)"
   ]
  },
  {
   "cell_type": "code",
   "execution_count": 20,
   "id": "36dd4c0b",
   "metadata": {},
   "outputs": [],
   "source": [
    "del eval_img"
   ]
  },
  {
   "cell_type": "code",
   "execution_count": 21,
   "id": "323a8e8f",
   "metadata": {},
   "outputs": [
    {
     "name": "stderr",
     "output_type": "stream",
     "text": [
      "100%|███████████████████████████████████████| 1920/1920 [02:55<00:00, 10.97it/s]\n"
     ]
    }
   ],
   "source": [
    "train_img = collector(\"/Users/ahmetuten/Desktop/grad/resized/train/*.png\")\n",
    "\n",
    "directory = \"/Users/ahmetuten/Desktop/grad/green/train\"\n",
    "arr = train_img\n",
    "\n",
    "greenChannel(directory, arr)"
   ]
  },
  {
   "cell_type": "code",
   "execution_count": 22,
   "id": "314037ae",
   "metadata": {},
   "outputs": [],
   "source": [
    "del train_img"
   ]
  },
  {
   "cell_type": "code",
   "execution_count": 23,
   "id": "e6590d78",
   "metadata": {},
   "outputs": [
    {
     "name": "stderr",
     "output_type": "stream",
     "text": [
      "100%|█████████████████████████████████████████| 640/640 [00:59<00:00, 10.81it/s]\n"
     ]
    }
   ],
   "source": [
    "test_img = collector(\"/Users/ahmetuten/Desktop/grad/resized/test/*.png\")\n",
    "\n",
    "directory = \"/Users/ahmetuten/Desktop/grad/green/test\"\n",
    "arr = test_img\n",
    "\n",
    "greenChannel(directory, arr)"
   ]
  },
  {
   "cell_type": "code",
   "execution_count": 24,
   "id": "6bf25720",
   "metadata": {},
   "outputs": [],
   "source": [
    "del test_img"
   ]
  },
  {
   "cell_type": "code",
   "execution_count": null,
   "id": "ed356328",
   "metadata": {},
   "outputs": [],
   "source": []
  }
 ],
 "metadata": {
  "kernelspec": {
   "display_name": "Python 3 (ipykernel)",
   "language": "python",
   "name": "python3"
  },
  "language_info": {
   "codemirror_mode": {
    "name": "ipython",
    "version": 3
   },
   "file_extension": ".py",
   "mimetype": "text/x-python",
   "name": "python",
   "nbconvert_exporter": "python",
   "pygments_lexer": "ipython3",
   "version": "3.10.4"
  }
 },
 "nbformat": 4,
 "nbformat_minor": 5
}
