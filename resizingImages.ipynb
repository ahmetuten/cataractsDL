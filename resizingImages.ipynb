{
 "cells": [
  {
   "cell_type": "code",
   "execution_count": 1,
   "id": "bd6d0c90",
   "metadata": {},
   "outputs": [],
   "source": [
    "from skimage.io import imread_collection\n",
    "import matplotlib.pyplot as plt\n",
    "from tqdm import tqdm\n",
    "%matplotlib inline\n",
    "import glob\n",
    "import cv2\n",
    "import os"
   ]
  },
  {
   "cell_type": "code",
   "execution_count": 2,
   "id": "1dbc8312",
   "metadata": {},
   "outputs": [],
   "source": [
    "def collector(directory):\n",
    "    col_dir = directory\n",
    "    col = imread_collection(col_dir)\n",
    "    \n",
    "    return col"
   ]
  },
  {
   "cell_type": "code",
   "execution_count": 3,
   "id": "b883330f",
   "metadata": {},
   "outputs": [],
   "source": [
    "train_graph = collector(\"/Users/ahmetuten/Desktop/grad/train_graph/*.png\")"
   ]
  },
  {
   "cell_type": "code",
   "execution_count": 5,
   "id": "e919bd5e",
   "metadata": {},
   "outputs": [
    {
     "name": "stderr",
     "output_type": "stream",
     "text": [
      "100%|██████████████████████████████████████| 1427/1427 [00:12<00:00, 113.66it/s]\n"
     ]
    }
   ],
   "source": [
    "# Resizing the images\n",
    "\n",
    "os.chdir(\"/Users/ahmetuten/Desktop/resizedtraingraph\")\n",
    "\n",
    "for i in tqdm(range(len(train_graph))):\n",
    "    img = cv2.resize(train_graph[i], (268, 178))\n",
    "    \n",
    "    j = 1\n",
    "    while os.path.exists(\"%d.png\" % j):\n",
    "        j+=1\n",
    "    \n",
    "    cv2.imwrite(\"%d.png\" % j, img)"
   ]
  },
  {
   "cell_type": "code",
   "execution_count": 6,
   "id": "5e15af21",
   "metadata": {},
   "outputs": [],
   "source": [
    "test_graph = collector(\"/Users/ahmetuten/Desktop/grad/test_graph/*.png\")"
   ]
  },
  {
   "cell_type": "code",
   "execution_count": 7,
   "id": "8c45866b",
   "metadata": {},
   "outputs": [
    {
     "name": "stderr",
     "output_type": "stream",
     "text": [
      "100%|████████████████████████████████████████| 640/640 [00:05<00:00, 127.92it/s]\n"
     ]
    }
   ],
   "source": [
    "# Resizing the images\n",
    "\n",
    "os.chdir(\"/Users/ahmetuten/Desktop/resizedtestgraph\")\n",
    "\n",
    "for i in tqdm(range(len(test_graph))):\n",
    "    img = cv2.resize(test_graph[i], (268, 178))\n",
    "    \n",
    "    j = 1\n",
    "    while os.path.exists(\"%d.png\" % j):\n",
    "        j+=1\n",
    "    \n",
    "    cv2.imwrite(\"%d.png\" % j, img)"
   ]
  },
  {
   "cell_type": "code",
   "execution_count": 3,
   "id": "1be14678",
   "metadata": {},
   "outputs": [],
   "source": [
    "eval_img = collector(\"/Users/ahmetuten/Desktop/grad/histeq/test/*.png\");"
   ]
  },
  {
   "cell_type": "code",
   "execution_count": 4,
   "id": "71e6b49a",
   "metadata": {},
   "outputs": [
    {
     "name": "stderr",
     "output_type": "stream",
     "text": [
      "100%|█████████████████████████████████████████| 640/640 [00:18<00:00, 35.44it/s]\n"
     ]
    }
   ],
   "source": [
    "# Resizing the images\n",
    "\n",
    "os.chdir(\"/Users/ahmetuten/Desktop/resized-test\")\n",
    "\n",
    "for i in tqdm(range(len(eval_img))):\n",
    "    img = cv2.resize(eval_img[i], (268, 178))\n",
    "    \n",
    "    j = 1\n",
    "    while os.path.exists(\"%d.png\" % j):\n",
    "        j+=1\n",
    "    \n",
    "    cv2.imwrite(\"%d.png\" % j, img)"
   ]
  },
  {
   "cell_type": "code",
   "execution_count": 14,
   "id": "739f313a",
   "metadata": {},
   "outputs": [],
   "source": [
    "test_img = collector(\"/Users/ahmetuten/Desktop/archive/Test_Set/Test_Set/Test/*.png\")"
   ]
  },
  {
   "cell_type": "code",
   "execution_count": 15,
   "id": "0c6b5335",
   "metadata": {},
   "outputs": [
    {
     "name": "stderr",
     "output_type": "stream",
     "text": [
      "100%|█████████████████████████████████████████| 640/640 [01:45<00:00,  6.09it/s]\n"
     ]
    }
   ],
   "source": [
    "os.chdir(\"/Users/ahmetuten/Desktop/grad/resized/test/\")\n",
    "\n",
    "for i in tqdm(range(640)):\n",
    "    img = cv2.resize(test_img[i], (2144, 1424))\n",
    "    \n",
    "    j = 1\n",
    "    while os.path.exists(\"%d.png\" % j):\n",
    "        j+=1\n",
    "    \n",
    "    cv2.imwrite(\"%d.png\" % j, img)"
   ]
  },
  {
   "cell_type": "code",
   "execution_count": 16,
   "id": "b7f9dfda",
   "metadata": {},
   "outputs": [],
   "source": [
    "train_img = collector(\"/Users/ahmetuten/Desktop/archive/Training_Set/Training_Set/Training/*.png\")"
   ]
  },
  {
   "cell_type": "code",
   "execution_count": 18,
   "id": "ccbc269c",
   "metadata": {},
   "outputs": [
    {
     "name": "stderr",
     "output_type": "stream",
     "text": [
      "100%|███████████████████████████████████████| 1920/1920 [04:58<00:00,  6.44it/s]\n"
     ]
    }
   ],
   "source": [
    "os.chdir(\"/Users/ahmetuten/Desktop/grad/resized/train\")\n",
    "\n",
    "for i in tqdm(range(len(train_img))):\n",
    "    img = cv2.resize(train_img[i], (2144, 1424))\n",
    "    \n",
    "    j = 1\n",
    "    while os.path.exists(\"%d.png\" % j):\n",
    "        j+=1\n",
    "    \n",
    "    cv2.imwrite(\"%d.png\" % j, img)"
   ]
  },
  {
   "cell_type": "code",
   "execution_count": null,
   "id": "a58f1244",
   "metadata": {},
   "outputs": [],
   "source": []
  }
 ],
 "metadata": {
  "kernelspec": {
   "display_name": "Python 3 (ipykernel)",
   "language": "python",
   "name": "python3"
  },
  "language_info": {
   "codemirror_mode": {
    "name": "ipython",
    "version": 3
   },
   "file_extension": ".py",
   "mimetype": "text/x-python",
   "name": "python",
   "nbconvert_exporter": "python",
   "pygments_lexer": "ipython3",
   "version": "3.10.4"
  }
 },
 "nbformat": 4,
 "nbformat_minor": 5
}
