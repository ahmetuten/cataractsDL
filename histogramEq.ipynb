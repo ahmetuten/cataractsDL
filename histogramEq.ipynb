{
 "cells": [
  {
   "cell_type": "code",
   "execution_count": 7,
   "id": "f4b5af63",
   "metadata": {},
   "outputs": [],
   "source": [
    "from skimage.io import imread_collection\n",
    "from tqdm import tqdm\n",
    "import cv2\n",
    "import numpy as np\n",
    "import matplotlib.pyplot as plt\n",
    "import glob\n",
    "import os"
   ]
  },
  {
   "cell_type": "code",
   "execution_count": 8,
   "id": "7b653194",
   "metadata": {},
   "outputs": [],
   "source": [
    "def collector(directory):\n",
    "    col_dir = directory\n",
    "    col = imread_collection(col_dir)\n",
    "    \n",
    "    return col"
   ]
  },
  {
   "cell_type": "code",
   "execution_count": 9,
   "id": "c769d25e",
   "metadata": {},
   "outputs": [],
   "source": [
    "def equalizer(directory, arr):\n",
    "    \n",
    "    os.chdir(directory)\n",
    "    \n",
    "    for i in tqdm(arr):\n",
    "        img = i\n",
    "        eqimg = cv2.equalizeHist(img)\n",
    "        \n",
    "        j = 1\n",
    "        while os.path.exists(\"%d.png\" % j):\n",
    "            j+=1\n",
    "    \n",
    "        cv2.imwrite(\"%d.png\" % j, eqimg)"
   ]
  },
  {
   "cell_type": "code",
   "execution_count": 10,
   "id": "a2a0dd02",
   "metadata": {},
   "outputs": [
    {
     "name": "stderr",
     "output_type": "stream",
     "text": [
      "100%|█████████████████████████████████████████| 640/640 [00:30<00:00, 21.05it/s]\n"
     ]
    }
   ],
   "source": [
    "eval_img = collector(\"/Users/ahmetuten/Desktop/grad/green/eval/*.png\")\n",
    "\n",
    "directory = \"/Users/ahmetuten/Desktop/grad/histeq/eval\"\n",
    "arr = eval_img\n",
    "\n",
    "equalizer(directory, arr)"
   ]
  },
  {
   "cell_type": "code",
   "execution_count": 11,
   "id": "1920505b",
   "metadata": {},
   "outputs": [],
   "source": [
    "del eval_img"
   ]
  },
  {
   "cell_type": "code",
   "execution_count": 12,
   "id": "462bd5e3",
   "metadata": {},
   "outputs": [
    {
     "name": "stderr",
     "output_type": "stream",
     "text": [
      "100%|█████████████████████████████████████████| 640/640 [00:30<00:00, 21.00it/s]\n"
     ]
    }
   ],
   "source": [
    "test_img = collector(\"/Users/ahmetuten/Desktop/grad/green/test/*.png\")\n",
    "\n",
    "directory = \"/Users/ahmetuten/Desktop/grad/histeq/test\"\n",
    "arr = test_img\n",
    "\n",
    "equalizer(directory, arr)"
   ]
  },
  {
   "cell_type": "code",
   "execution_count": 13,
   "id": "c3423fe8",
   "metadata": {},
   "outputs": [],
   "source": [
    "del test_img"
   ]
  },
  {
   "cell_type": "code",
   "execution_count": 14,
   "id": "f7e028fc",
   "metadata": {},
   "outputs": [
    {
     "name": "stderr",
     "output_type": "stream",
     "text": [
      "100%|███████████████████████████████████████| 1920/1920 [01:34<00:00, 20.33it/s]\n"
     ]
    }
   ],
   "source": [
    "train_img = collector(\"/Users/ahmetuten/Desktop/grad/green/train/*.png\")\n",
    "\n",
    "directory = \"/Users/ahmetuten/Desktop/grad/histeq/train\"\n",
    "arr = train_img\n",
    "\n",
    "equalizer(directory, arr)"
   ]
  },
  {
   "cell_type": "code",
   "execution_count": 15,
   "id": "fcfe2fe5",
   "metadata": {},
   "outputs": [],
   "source": [
    "del train_img"
   ]
  },
  {
   "cell_type": "code",
   "execution_count": null,
   "id": "35c46088",
   "metadata": {},
   "outputs": [],
   "source": []
  }
 ],
 "metadata": {
  "kernelspec": {
   "display_name": "Python 3 (ipykernel)",
   "language": "python",
   "name": "python3"
  },
  "language_info": {
   "codemirror_mode": {
    "name": "ipython",
    "version": 3
   },
   "file_extension": ".py",
   "mimetype": "text/x-python",
   "name": "python",
   "nbconvert_exporter": "python",
   "pygments_lexer": "ipython3",
   "version": "3.10.4"
  }
 },
 "nbformat": 4,
 "nbformat_minor": 5
}
