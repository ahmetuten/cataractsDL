{
 "cells": [
  {
   "cell_type": "code",
   "execution_count": 3,
   "id": "4bda8bb4",
   "metadata": {},
   "outputs": [],
   "source": [
    "from sklearn.model_selection import GridSearchCV\n",
    "from skimage.transform import resize\n",
    "from skimage.io import imread\n",
    "from sklearn import svm\n",
    "from skimage import io\n",
    "import pandas as pd\n",
    "import numpy as np\n",
    "import glob\n",
    "import os\n",
    "\n",
    "# Importing the data\n",
    "x_train = [io.imread(file) for file in glob.glob(\"../resized/*.png\")]\n",
    "y_train = pd.read_csv(\"./histeq/train_labels.csv\")\n",
    "\n",
    "y_train = y_train[\"Disease_Risk\"]\n",
    "\n",
    "# Flattening the data to use in the model\n",
    "xflat_train = []\n",
    "\n",
    "for i in range(len(x_train)):\n",
    "    xflat_train.append(x_train[i].flatten())\n",
    "    \n",
    "\n",
    "xflat_train = np.array(xflat_train)\n",
    "\n",
    "# Fitting the model with the best parameters\n",
    "param_grid={'C':[0.1,1,10,100],'gamma':[0.0001,0.001,0.1,1],'kernel':['rbf','poly']}\n",
    "svc=svm.SVC(probability=True)\n",
    "model=GridSearchCV(svc,param_grid)\n",
    "\n",
    "model.fit(xflat_train, y_train)\n",
    "\n",
    "filename = 'svm_model.sav'\n",
    "pickle.dump(model, open(filename, 'wb'))"
   ]
  }
 ],
 "metadata": {
  "kernelspec": {
   "display_name": "Python 3 (ipykernel)",
   "language": "python",
   "name": "python3"
  },
  "language_info": {
   "codemirror_mode": {
    "name": "ipython",
    "version": 3
   },
   "file_extension": ".py",
   "mimetype": "text/x-python",
   "name": "python",
   "nbconvert_exporter": "python",
   "pygments_lexer": "ipython3",
   "version": "3.10.4"
  }
 },
 "nbformat": 4,
 "nbformat_minor": 5
}
