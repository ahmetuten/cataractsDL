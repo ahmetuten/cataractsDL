{
 "cells": [
  {
   "cell_type": "code",
   "execution_count": 1,
   "id": "56019fa5",
   "metadata": {},
   "outputs": [],
   "source": [
    "from sklearn.model_selection import GridSearchCV\n",
    "from tensorflow.keras.optimizers import Adam\n",
    "from keras.models import Sequential\n",
    "import matplotlib.pyplot as plt\n",
    "from keras import optimizers\n",
    "from keras import layers\n",
    "from keras import models\n",
    "from keras import losses\n",
    "import skimage.io as io\n",
    "import pandas as pd\n",
    "import numpy as np\n",
    "import glob\n",
    "import cv2\n",
    "\n",
    "# Importing all necessary data\n",
    "x_train = [io.imread(file) for file in glob.glob(\"../resized/*.png\")]\n",
    "y_train = pd.read_csv(\"./histeq/train_labels.csv\")\n",
    "\n",
    "x_test = [io.imread(file) for file in glob.glob(\"../resizedtest/*.png\")]\n",
    "y_test = pd.read_csv(\"./histeq/test_labels.csv\")\n",
    "\n",
    "y_train = y_train[\"Disease_Risk\"]\n",
    "y_test = y_test[\"Disease_Risk\"]\n",
    "\n",
    "x_graph_train = [io.imread(file, as_gray=True) for file in glob.glob(\"../resizedtraingraph/*.png\")]\n",
    "y_graph_train = y_train.iloc[:1427]\n",
    "\n",
    "x_graph_test = [io.imread(file, as_gray=True) for file in glob.glob(\"../resizedtestgraph/*.png\")]\n",
    "y_graph_test = y_test\n",
    "\n",
    "# Converting data to ndarrays\n",
    "x_train = np.array(x_train)\n",
    "x_graph_train = np.array(x_graph_train)\n",
    "\n",
    "x_test = np.array(x_test)\n",
    "x_graph_test = np.array(x_graph_test)\n",
    "\n",
    "y_train = np.asarray(y_train)\n",
    "y_graph_train = np.asarray(y_graph_train)\n",
    "\n",
    "# Concatenating the graph and the image data\n",
    "x_train = np.concatenate((x_train, x_graph_train), axis=0)\n",
    "y_train = np.concatenate((y_train, y_graph_train), axis=0)\n",
    "\n",
    "x_test = np.concatenate((x_test, x_graph_test), axis=0)\n",
    "y_test = np.concatenate((y_test, y_graph_test), axis=0)\n",
    "\n",
    "# Normalizing the train values\n",
    "for i in range(len(x_train)):\n",
    "    x_train[i] = x_train[i].astype(\"float32\")\n",
    "    x_train[i] = x_train[i] / 255\n",
    "    \n",
    "# Building the model\n",
    "model = Sequential()\n",
    "\n",
    "model.add(layers.Conv2D(32, (3, 3), activation = 'relu', input_shape=(178, 268, 1)))\n",
    "model.add(layers.MaxPooling2D((2, 2)))\n",
    "\n",
    "model.add(layers.Conv2D(64, (3, 3), activation = 'relu', input_shape = (64 ,64,  3)))\n",
    "model.add(layers.MaxPooling2D((2, 2)))\n",
    "\n",
    "model.add(layers.Conv2D(128, (3, 3), activation = 'relu', input_shape = (64 ,64,  3)))\n",
    "model.add(layers.MaxPooling2D((2, 2)))\n",
    "\n",
    "model.add(layers.Flatten())\n",
    "\n",
    "model.add(layers.Dense(units = 512, activation = 'relu'))\n",
    "\n",
    "model.add(layers.Dense(units = 1, activation = 'sigmoid'))\n",
    "\n",
    "model.compile(loss = 'binary_crossentropy',\n",
    "              optimizer=Adam(learning_rate=0.0001),\n",
    "              metrics = ['acc'])\n",
    "\n",
    "# Based on the trainings, optimal number of epochs is 7.\n",
    "model.fit(x_train, y_train, epochs = 7)\n",
    "\n",
    "# Evaluating the model\n",
    "results_test = model.evaluate(x_test, y_test)\n",
    "print(results_test)\n",
    "\n",
    "model.save('cnn_model.h5')"
   ]
  },
  {
   "cell_type": "code",
   "execution_count": 16,
   "id": "6c0fbe47",
   "metadata": {
    "scrolled": true
   },
   "outputs": [
    {
     "name": "stdout",
     "output_type": "stream",
     "text": [
      "Epoch 1/7\n"
     ]
    },
    {
     "name": "stderr",
     "output_type": "stream",
     "text": [
      "2023-01-04 14:50:43.949900: W tensorflow/core/platform/profile_utils/cpu_utils.cc:128] Failed to get CPU frequency: 0 Hz\n",
      "2023-01-04 14:50:44.346682: I tensorflow/core/grappler/optimizers/custom_graph_optimizer_registry.cc:114] Plugin optimizer for device_type GPU is enabled.\n"
     ]
    },
    {
     "name": "stdout",
     "output_type": "stream",
     "text": [
      "105/105 [==============================] - 24s 216ms/step - loss: 0.5134 - acc: 0.8127\n",
      "Epoch 2/7\n",
      "105/105 [==============================] - 22s 213ms/step - loss: 0.4833 - acc: 0.8127\n",
      "Epoch 3/7\n",
      "105/105 [==============================] - 22s 214ms/step - loss: 0.4894 - acc: 0.8127\n",
      "Epoch 4/7\n",
      "105/105 [==============================] - 22s 213ms/step - loss: 0.4832 - acc: 0.8127\n",
      "Epoch 5/7\n",
      "105/105 [==============================] - 23s 216ms/step - loss: 0.4804 - acc: 0.8127\n",
      "Epoch 6/7\n",
      "105/105 [==============================] - 22s 214ms/step - loss: 0.4817 - acc: 0.8127\n",
      "Epoch 7/7\n",
      "105/105 [==============================] - 22s 213ms/step - loss: 0.4774 - acc: 0.8127\n"
     ]
    },
    {
     "data": {
      "text/plain": [
       "<keras.callbacks.History at 0x2a1c38dc0>"
      ]
     },
     "execution_count": 16,
     "metadata": {},
     "output_type": "execute_result"
    }
   ],
   "source": []
  },
  {
   "cell_type": "code",
   "execution_count": 29,
   "id": "85b1dae8",
   "metadata": {},
   "outputs": [
    {
     "name": "stdout",
     "output_type": "stream",
     "text": [
      "Model: \"sequential\"\n",
      "_________________________________________________________________\n",
      " Layer (type)                Output Shape              Param #   \n",
      "=================================================================\n",
      " conv2d (Conv2D)             (None, 176, 266, 32)      320       \n",
      "                                                                 \n",
      " max_pooling2d (MaxPooling2D  (None, 88, 133, 32)      0         \n",
      " )                                                               \n",
      "                                                                 \n",
      " conv2d_1 (Conv2D)           (None, 86, 131, 64)       18496     \n",
      "                                                                 \n",
      " max_pooling2d_1 (MaxPooling  (None, 43, 65, 64)       0         \n",
      " 2D)                                                             \n",
      "                                                                 \n",
      " conv2d_2 (Conv2D)           (None, 41, 63, 128)       73856     \n",
      "                                                                 \n",
      " max_pooling2d_2 (MaxPooling  (None, 20, 31, 128)      0         \n",
      " 2D)                                                             \n",
      "                                                                 \n",
      " flatten (Flatten)           (None, 79360)             0         \n",
      "                                                                 \n",
      " dense (Dense)               (None, 512)               40632832  \n",
      "                                                                 \n",
      " dense_1 (Dense)             (None, 1)                 513       \n",
      "                                                                 \n",
      "=================================================================\n",
      "Total params: 40,726,017\n",
      "Trainable params: 40,726,017\n",
      "Non-trainable params: 0\n",
      "_________________________________________________________________\n"
     ]
    }
   ],
   "source": [
    "model.summary()"
   ]
  },
  {
   "cell_type": "code",
   "execution_count": 17,
   "id": "7b883920",
   "metadata": {
    "scrolled": false
   },
   "outputs": [
    {
     "name": "stderr",
     "output_type": "stream",
     "text": [
      "2023-01-04 14:53:24.014423: I tensorflow/core/grappler/optimizers/custom_graph_optimizer_registry.cc:114] Plugin optimizer for device_type GPU is enabled.\n"
     ]
    },
    {
     "name": "stdout",
     "output_type": "stream",
     "text": [
      "40/40 [==============================] - 4s 80ms/step - loss: 28.0025 - acc: 0.7906\n",
      "[28.00250244140625, 0.7906250357627869]\n"
     ]
    }
   ],
   "source": []
  },
  {
   "cell_type": "code",
   "execution_count": 21,
   "id": "b9b6533f",
   "metadata": {},
   "outputs": [],
   "source": [
    "model.save('cnn_model.h5')"
   ]
  }
 ],
 "metadata": {
  "kernelspec": {
   "display_name": "Python 3 (ipykernel)",
   "language": "python",
   "name": "python3"
  },
  "language_info": {
   "codemirror_mode": {
    "name": "ipython",
    "version": 3
   },
   "file_extension": ".py",
   "mimetype": "text/x-python",
   "name": "python",
   "nbconvert_exporter": "python",
   "pygments_lexer": "ipython3",
   "version": "3.10.4"
  }
 },
 "nbformat": 4,
 "nbformat_minor": 5
}
